{
  "nbformat": 4,
  "nbformat_minor": 0,
  "metadata": {
    "colab": {
      "name": "snr.ipynb",
      "provenance": [],
      "collapsed_sections": [],
      "authorship_tag": "ABX9TyOReHpHe4x6EJnShxRIcyoR",
      "include_colab_link": true
    },
    "kernelspec": {
      "name": "python3",
      "display_name": "Python 3"
    },
    "language_info": {
      "name": "python"
    }
  },
  "cells": [
    {
      "cell_type": "markdown",
      "metadata": {
        "id": "view-in-github",
        "colab_type": "text"
      },
      "source": [
        "<a href=\"https://colab.research.google.com/github/abbasKareem/SNR/blob/master/snr.ipynb\" target=\"_parent\"><img src=\"https://colab.research.google.com/assets/colab-badge.svg\" alt=\"Open In Colab\"/></a>"
      ]
    },
    {
      "cell_type": "code",
      "execution_count": 11,
      "metadata": {
        "id": "TaA92BiJPYup"
      },
      "outputs": [],
      "source": [
        "import numpy as np\n",
        "import matplotlib.pyplot as plt\n",
        "\n",
        "import math\n",
        "from scipy.stats import norm\n",
        "import scipy.io\n",
        "from scipy import linalg\n",
        "\n",
        "np.random.seed(42)\n",
        "\n"
      ]
    },
    {
      "cell_type": "code",
      "source": [
        "def signaltonoise(a, axis=0, ddof=0):\n",
        "    a = np.asanyarray(a)\n",
        "    m = a.mean(axis)\n",
        "    sd = a.std(axis=axis, ddof=ddof)\n",
        "    return np.where(sd == 0, 0, m/sd)"
      ],
      "metadata": {
        "id": "SEnSw9HpFDGY"
      },
      "execution_count": 2,
      "outputs": []
    },
    {
      "cell_type": "code",
      "source": [
        "Ns=1000\n",
        "\n",
        "SNR =np.array([-20, -19, -18, -17, -16, -15, -14, -13, -12, -11, -10, -9, -8, -7, -6, -5, -4, -3, -2, -1, 0], dtype='int64')\n",
        "snr = np.array([0.0100, 0.0126, 0.0158, 0.0200, 0.0251, 0.0316, 0.0398,  0.0501, 0.0631, 0.0794, 0.1000, 0.1259, 0.1585, 0.1995,  0.2512, 0.3162, 0.3981, 0.5012 ,0.6310, 0.7943, 1.0000], dtype='float64')\n",
        "L=3\n",
        "nn=0\n",
        "m=0\n",
        "pf=0.01\n",
        "num_iter=100\n",
        "l=1\n",
        "test = 0\n",
        "pd = np.zeros(21)\n",
        "# for x in (n+1 for n in range(5)):\n",
        "for i in SNR:\n",
        "  count = 0\n",
        "  conf = 0\n",
        "  for h in (n+1 for n in range(num_iter)):\n",
        "    d = np.array([1, 0, 1, 1, 0]) # Data sequence\n",
        "    b = (2 * d) - 1 # Convert unipolar to bipolar\n",
        "    T = 1 # Bit duration\n",
        "    Eb = T/2 # This will result in unit amplitude waveforms\n",
        "    fc = 7/T # Carrier frequency\n",
        "    t = np.linspace(0, 5, Ns) # discrete time sequence between 0 and 5*T (1000 samples)\n",
        "    N = len(t) # Number of samples\n",
        "    Nsb = N/len(d) # Number of samples per bit\n",
        "    dd = np.tile(d.conj().T, (1, int(Nsb))) # replicate each bit Nsb times\n",
        "    bb = np.tile(b.conj().T,(1, int(Nsb)))  # Transpose the rows and columns\n",
        "    dw = dd.conj().transpose()\n",
        "    dw = np.concatenate([dw.flat]) # Convert dw to a column vector (colum by column) and convert to a row vector\n",
        "    bw = bb.conj().T # line 32\n",
        "    bw = np.concatenate([bw.flat]) # Data sequence samples line 33  \n",
        "    w = np.dot(np.sqrt((np.dot(2,Eb))/T), np.cos(np.dot(np.dot(np.dot(2, math.pi), fc), t))) # carrier waveform line 34\n",
        "    bpsk_w = bw*w # modulated waveform line 35\n",
        "    signal = bpsk_w # line 36\n",
        "    noise = np.random.standard_normal((Ns,)) # line 37\n",
        "    noise_power= (np.linalg.norm(noise)) ** 2 # line 38\n",
        "    signal_power = (np.linalg.norm(signal)) ** 2 # line 39\n",
        "    # mult = sqrt(snr(i)*noise_power/signal_power) # line 40\n",
        "    mult =np.sqrt(((signaltonoise(np.array([i]))) * noise_power) / signal_power) # line 40\n",
        "    signal1 =np.dot(mult, signal) # line 41\n",
        "    signal2 = signal1 + noise # line 42\n",
        "    k = 0 # line 43\n",
        "    Cx = np.zeros((1, L)) # line 44\n",
        "    for n in range(L - 1): # line 45\n",
        "      for j in range(1, (Ns-L-1), 1): # line 46\n",
        "        Cx[:, n] = Cx[:, n] + (signal2[j] * signal2[j+k]) # line 47\n",
        "      k = k +1 # line 49\n",
        "    nvar = noise.var(axis=0) # line 51\n",
        "    svar = signal.var(axis=0) # line 52\n",
        "    sn = svar / nvar #line 53\n",
        "    Cx = Cx / Ns # line 54\n",
        "    Cx_mtx = linalg.toeplitz(Cx) # line 55\n",
        "    T2 = np.sum(np.diag(np.abs(Cx_mtx))) # line 56\n",
        "    T1 = np.sum(np.sum(np.abs(Cx_mtx))) # line 57\n",
        "    y=T1 / T2 #line 58\n",
        "    nu = 1.585 #line 59\n",
        "    Rl = (T1 - T2) / (sn*nvar*nu) # line 60\n",
        "    a0 = (Rl*sn) / (sn+1) # line 61\n",
        "    a1 = np.sqrt(2 / (Ns * math.pi)) # line 62\n",
        "    a2 = L - 1  # line 63\n",
        "    a = (a2 * a1) - a0 # line 64\n",
        "    b = ((a2 * a1) - a0) + 2 # line 65\n",
        "    c0 = (1 - pf) / pf # line 66\n",
        "    c1=4/Ns # line 67\n",
        "    c2 = 1 + (a2*a1) # line 68\n",
        "    c3 = a0 + 1 # line 69\n",
        "    Aa = np.log(c0 * (c2 / c3)) # line 70\n",
        "    A = Aa * c1 #line 71\n",
        "    t1 = 1 + ((A*b)/a) # line 72\n",
        "    th1 = (a/A)*(-1 +np.sqrt(t1)) # line 73\n",
        "    R2 = (T1 - T2) /((sn/(nvar*nu))) # line 74\n",
        "    aa0 = (R2 * sn) / (sn + 1) # line 75\n",
        "    aa = (a2 * a1) -aa0 # line 76\n",
        "    bb = (a2 * a1) -aa0 + 2 # line 77\n",
        "    cc3 = aa0 + 1 # line 78\n",
        "    Aaa =np.log(c0*(c2/cc3)) # line 79\n",
        "    AA = Aaa * c1  # line 80\n",
        "    t2 = 1 + ((AA * bb) / aa) # line 81\n",
        "    th2 = (aa / AA) * (-1 + np.sqrt(t2)) # line 82\n",
        "    Rl1 = (T1 - T2) / (sn * nvar) # line 83\n",
        "    a00 = (Rl1 * sn) / (sn + 1) # line 84\n",
        "    aa0 = (a2 * a1) - a00 # line 85\n",
        "    bb0 = (a2 * a1) - a00 + 2 # line 86\n",
        "    c33 = a00 + 1 # line 87\n",
        "    Aa0 = np.log(c0 * (c2 / c33)) # line 88\n",
        "    AA0 = Aa0 * c1 # line 89\n",
        "    t10 = 1 + ( (AA0 * bb0) / aa0) # line 90\n",
        "    th = (aa0 / AA0) * (-1 + np.sqrt(t10)) # line 91\n",
        "    D = ( th1 - th2 ) / 8 # line 92\n",
        "    A=D+th2 # line 93\n",
        "    B = A + D # line 94\n",
        "    C = B + D # line 95\n",
        "    E = C + D # line 96\n",
        "    F = E + D # line 97\n",
        "    G = F + D # line 98\n",
        "    H = G + D # line 99\n",
        "    if y >= th1: #line 100 #if the ratio is larger than the threshold then there is a detection\n",
        "      m = 1 # line 101\n",
        "    elif y <= th2: # line 102\n",
        "      m = 0 # line 103\n",
        "    if H < y < th1:\n",
        "      nn = 7\n",
        "    elif G < y <= H:\n",
        "      nn = 6\n",
        "    elif F < y <=G:\n",
        "      nn = 5\n",
        "    elif E < y <=F:\n",
        "      nn = 4\n",
        "    elif C < y <=E:\n",
        "      nn = 3\n",
        "    elif B < y <=C:\n",
        "      nn = 2\n",
        "    elif A < y <=B:\n",
        "      nn = 1\n",
        "    elif th2 < y <=A:\n",
        "      nn = 0\n",
        "    Y = nn + m\n",
        "    if Y >= th:\n",
        "      count = count + 1\n",
        "  pd[i] = count / num_iter\n",
        "\n",
        "\n"
      ],
      "metadata": {
        "id": "cz8HvVh7Pb8P"
      },
      "execution_count": null,
      "outputs": []
    },
    {
      "cell_type": "code",
      "source": [
        "\n",
        "plt.plot(SNR, pd, marker='o')\n",
        "plt.xlabel(\"Signal To Noise Ratio(dB)\")\n",
        "plt.ylabel(\"Probability Of Detection\")\n",
        "plt.show()\n"
      ],
      "metadata": {
        "colab": {
          "base_uri": "https://localhost:8080/",
          "height": 279
        },
        "id": "HWhkoajCxSRQ",
        "outputId": "a83a78e2-1c52-4bc6-9ec4-1c7643dd6dfb"
      },
      "execution_count": 23,
      "outputs": [
        {
          "output_type": "display_data",
          "data": {
            "text/plain": [
              "<Figure size 432x288 with 1 Axes>"
            ],
            "image/png": "[encoded data removed]"
          },
          "metadata": {
            "needs_background": "light"
          }
        }
      ]
    }
  ]
}